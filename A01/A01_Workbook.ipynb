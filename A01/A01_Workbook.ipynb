{
 "cells": [
  {
   "cell_type": "markdown",
   "id": "228ce965-72f1-47e3-a439-5b298cd7cb4d",
   "metadata": {},
   "source": [
    "# HLCV Assignment 1\n",
    "This notebook contains skeletons that you are supposed to fill in (watch out for <font color='red'>**TODO**</font> tags). In general, you are expected to implement methods yourself. For example, when asked to implement a method computing histograms you can use numpy array functions that help you implement this task, but not use the numpy implementation `np.histogram` for your solution. To submit your assignment, upload your completed notebook and a PDF report (use the provided Latex template with, for example, [Overleaf](http://overleaf.com)) that contains your observations."
   ]
  },
  {
   "cell_type": "code",
   "execution_count": null,
   "id": "37e64e5e-4f6e-4183-b3ab-43289712fcb3",
   "metadata": {},
   "outputs": [],
   "source": [
    "import matplotlib.pyplot as plt, numpy as np, glob, os, scipy, itertools\n",
    "# you do not need tqdm, but you might find it convenient\n",
    "try:\n",
    "    import tqdm.notebook as tqdm\n",
    "except:\n",
    "    class _tqdm:\n",
    "        def tqdm(self, l):\n",
    "            return l\n",
    "    tqdm = _tqdm()"
   ]
  },
  {
   "cell_type": "markdown",
   "id": "f1c67da3-a89f-46d8-a35d-ad1ff8af49f9",
   "metadata": {},
   "source": [
    "In this exercise you will first familiarise yourself with basic image filtering routines. The zip file contains image `graf.png`, which we will use for testing purposes."
   ]
  },
  {
   "cell_type": "markdown",
   "id": "7057843f-52ef-42d3-b9df-ad4ffb260dc4",
   "metadata": {},
   "source": [
    "# Part 1: Loading and Manipulating Images\n",
    "We can load and show images using `matplotlib` for now."
   ]
  },
  {
   "cell_type": "code",
   "execution_count": null,
   "id": "8e2c8917-b47e-44dc-a314-605db4d963de",
   "metadata": {},
   "outputs": [],
   "source": [
    "graf = plt.imread(\"graf.png\")\n",
    "plt.imshow(graf)"
   ]
  },
  {
   "cell_type": "markdown",
   "id": "0a7eea71-6c12-4cfd-b1ac-4519542bde88",
   "metadata": {},
   "source": [
    "An image loaded with matplotlib is a matrix containing brightness values ∈ [0,1] for each color channel."
   ]
  },
  {
   "cell_type": "code",
   "execution_count": null,
   "id": "a9d84abc-a93c-40d9-9493-64f391253898",
   "metadata": {},
   "outputs": [],
   "source": [
    "graf.shape, graf[0,0,0]"
   ]
  },
  {
   "cell_type": "markdown",
   "id": "aa7e52f8-1ecd-4d3b-ac63-a8b4502be54f",
   "metadata": {},
   "source": [
    "Usually, images are saved in RGB (3 color channels) and uint8 (1 byte = 256 brightness values). In any case, the loaded brightness values are initially discrete."
   ]
  },
  {
   "cell_type": "code",
   "execution_count": null,
   "id": "5b9758a5-d042-41f6-935e-d7570e9efad5",
   "metadata": {},
   "outputs": [],
   "source": [
    "graf[0,0,0], graf[0,0,0]*255"
   ]
  },
  {
   "cell_type": "code",
   "execution_count": null,
   "id": "a0f6e5d1-d1b7-40cc-8f4d-2acf206b5c16",
   "metadata": {},
   "outputs": [],
   "source": [
    "graf_uint8 = (graf*255).astype(np.uint8)\n",
    "\n",
    "f, ax = plt.subplots(1,2)\n",
    "ax[0].imshow(\n",
    "    graf\n",
    ")\n",
    "i = ax[1].imshow(\n",
    "    graf_uint8\n",
    ")\n",
    "plt.colorbar(i, fraction=0.04)\n",
    "graf_uint8[0,0,0]"
   ]
  },
  {
   "cell_type": "code",
   "execution_count": null,
   "id": "d779a6c2-8683-4b27-b988-9451427df2f8",
   "metadata": {},
   "outputs": [],
   "source": [
    "img = graf.copy()\n",
    "img[100:500,100:200,:] = 0\n",
    "img[250:350,200:300,:] = 0\n",
    "img[100:500,300:400,:] = 0\n",
    "img[100:500,500:600,:] = 0\n",
    "plt.imshow(img)"
   ]
  },
  {
   "cell_type": "markdown",
   "id": "3276bc80-e517-47ac-9f95-8961977bff0f",
   "metadata": {},
   "source": [
    "<font color='red'>**TODO**</font>: Create 3 copies of the `graf` image where each only contains values in one color channel."
   ]
  },
  {
   "cell_type": "code",
   "execution_count": null,
   "id": "ba18b174-b0f8-4c46-a1c7-f24666a01649",
   "metadata": {},
   "outputs": [],
   "source": [
    "img = graf.copy()\n",
    "# ... continue here"
   ]
  },
  {
   "cell_type": "markdown",
   "id": "d143dc32-5e83-4c7b-8e92-775264042382",
   "metadata": {},
   "source": [
    "<font color='red'>**TODO**</font>: Now lets turn the `graf` image into a gray value image by averaging over the color channels. Hint: `plt.imshow` has a default value for the argument `cmap` that you might want to change."
   ]
  },
  {
   "cell_type": "code",
   "execution_count": null,
   "id": "6e3344e4-4bdc-43cc-8fba-8069c06b17c5",
   "metadata": {},
   "outputs": [],
   "source": [
    "graf_gray = graf.copy()\n",
    "# ... continue here"
   ]
  },
  {
   "cell_type": "markdown",
   "id": "72f1e742-0783-41a5-97d8-9eeaeb5aa5e1",
   "metadata": {},
   "source": [
    "# Part 2: Image Filtering\n",
    "## a) Gaussian Filter\n",
    "<font color='red'>**TODO**</font>: Lets start with a simple 1D Gaussian. Implement a method which computes the values of a 1D Gaussian for a given variance σ². The method should also give a vector of values on which the Gaussian filter is defined: integer values on the interval [-3σ, 3σ].\n",
    "\n",
    "$$\n",
    "G = \\frac{1}{\\sqrt{2 \\pi \\sigma}} \\exp\\left(-\\frac{x^2}{2\\sigma^2}\\right)\n",
    "$$"
   ]
  },
  {
   "cell_type": "code",
   "execution_count": null,
   "id": "0fd97a5f-34f7-47cf-b907-42ba45f9d8ee",
   "metadata": {},
   "outputs": [],
   "source": [
    "def gauss(sigma):\n",
    "    x = np.arange(-int(3*sigma), int(3*sigma)+1)\n",
    "    # ... continue here\n",
    "    y = ...\n",
    "    return x, y"
   ]
  },
  {
   "cell_type": "code",
   "execution_count": null,
   "id": "02ee799e-a96a-41c1-be07-40ff4b44e489",
   "metadata": {},
   "outputs": [],
   "source": [
    "# plot your Gauss\n",
    "sigma = 4.0\n",
    "x, y = gauss(sigma)\n",
    "plt.plot(x, y)\n",
    "plt.grid(linestyle=\"--\")"
   ]
  },
  {
   "cell_type": "markdown",
   "id": "a95ae5a0-9237-42b2-8dcc-76cb64ec2b22",
   "metadata": {},
   "source": [
    "<font color='red'>**TODO**</font>: Implement a 2D Gaussian filter. The function should take an image as an input and return the result of convolution of this image with 2D Gaussian kernel. First, lets start by implementing the 2D Gaussian kernel. Complete function `gausskernel` below."
   ]
  },
  {
   "cell_type": "code",
   "execution_count": null,
   "id": "1a22fc37-7b25-4230-96ca-19dc12a32bfb",
   "metadata": {},
   "outputs": [],
   "source": [
    "def gausskernel(sigma):\n",
    "    # ... continue here\n",
    "    return kernel"
   ]
  },
  {
   "cell_type": "code",
   "execution_count": null,
   "id": "9a5b6b60-88d0-497f-8fb2-26b0392b6fb8",
   "metadata": {},
   "outputs": [],
   "source": [
    "# plot your Gauss\n",
    "kernel = gausskernel(2.0)\n",
    "plt.imshow(kernel)\n",
    "plt.colorbar()"
   ]
  },
  {
   "cell_type": "markdown",
   "id": "b66a8678-522b-4fb0-bec6-a712f8ba9afc",
   "metadata": {},
   "source": [
    "<font color='red'>**TODO**</font>: Now implement a convolution operation by completing function `my_convolution`. Afterwards you can test function `gaussfilter` - it should blur our example images."
   ]
  },
  {
   "cell_type": "code",
   "execution_count": null,
   "id": "dd469dd8-4c87-4d92-9a63-a55cef8e216c",
   "metadata": {},
   "outputs": [],
   "source": [
    "def my_padding(image, padding=0):\n",
    "    if padding != 0:\n",
    "        imagePadded = np.zeros((image.shape[0] + padding*2, image.shape[1] + padding*2))\n",
    "        imagePadded[int(padding):int(-1 * padding), int(padding):int(-1 * padding)] = image\n",
    "        return imagePadded\n",
    "    \n",
    "    return image"
   ]
  },
  {
   "cell_type": "code",
   "execution_count": null,
   "id": "2115ff49-1a69-43f5-b016-3c969a244562",
   "metadata": {},
   "outputs": [],
   "source": [
    "def my_convolution(image, kernel, padding=0, verbose=True):\n",
    "    multiplications = 0\n",
    "    \n",
    "    kernel = np.flipud(np.fliplr(kernel))\n",
    "    xKernShape = kernel.shape[0] \n",
    "    yKernShape = kernel.shape[1] \n",
    "    xImgShape = image.shape[0] \n",
    "    yImgShape = image.shape[1]\n",
    "    xOutput = int((xImgShape - xKernShape + 2 * padding) + 1) \n",
    "    yOutput = int((yImgShape - yKernShape + 2 * padding) + 1)\n",
    "    output = np.zeros((xOutput, yOutput))\n",
    "    if verbose:\n",
    "        print(output.shape)\n",
    "    \n",
    "    # Apply Equal Padding to All Sides\n",
    "    imagePadded = my_padding(image, padding)\n",
    "    \n",
    "    # Iterate through image\n",
    "    for y in range(yOutput):\n",
    "        for x in range(xOutput):\n",
    "            output[x,y] = # ... continue here\n",
    "            multiplications += xKernShape*yKernShape\n",
    "    \n",
    "    if verbose:\n",
    "        print(f\"Multiplications: {multiplications}\")\n",
    "    return output\n",
    "\n",
    "def gaussfilter(image, sigma, padding=0):\n",
    "    kernel = gausskernel(sigma)\n",
    "    filtered = my_convolution(image, kernel, padding)\n",
    "    return filtered"
   ]
  },
  {
   "cell_type": "markdown",
   "id": "aca9c369-f7ef-439c-b20b-3017a41499c3",
   "metadata": {},
   "source": [
    "Here you can test your implementation. Start with `sigma=4.0` and play around with different sigma values."
   ]
  },
  {
   "cell_type": "code",
   "execution_count": null,
   "id": "b5c5387f-3341-4b03-9bbd-33b6b0758e19",
   "metadata": {},
   "outputs": [],
   "source": [
    "graf_smooth = gaussfilter(graf_gray, sigma=4.0)\n",
    "\n",
    "plt.imshow(graf_smooth, cmap=\"gray\")\n",
    "plt.show()"
   ]
  },
  {
   "cell_type": "markdown",
   "id": "2499620d-dd9a-49e6-8d53-40ae0d9a61f6",
   "metadata": {},
   "source": [
    "## b) Separability\n",
    "The Gaussian filter is separable. This means we can first convolve each row of an image with a 1D filter and then convolve each column with another 1D filter instead of applying the corresponding 2D kernel (see lecture slides). Function `gaussfilter_sep` convolves a given image with two 1D Gaussians.\n",
    "\n",
    "<font color='red'>**TODO**</font>: Test how much more efficient this method is compared to its 2D counterpart. What would you expect?"
   ]
  },
  {
   "cell_type": "code",
   "execution_count": null,
   "id": "14185320-dba2-48aa-acf3-7b2d25ecf8ea",
   "metadata": {},
   "outputs": [],
   "source": [
    "def gaussfilter_sep(image, sigma, padding=0):\n",
    "    _, kernel = gauss(sigma)\n",
    "    kernel = np.atleast_2d(kernel) / kernel.sum()\n",
    "    filtered = my_convolution(image, kernel, padding)\n",
    "    filtered = my_convolution(filtered, kernel.T, 0)\n",
    "    return filtered"
   ]
  },
  {
   "cell_type": "code",
   "execution_count": null,
   "id": "4a6b6455-47b3-4586-9f3a-91dd9c15bcf7",
   "metadata": {},
   "outputs": [],
   "source": [
    "graf_smooth_sep = gaussfilter_sep(graf_gray, sigma=4.0, padding=0)\n",
    "plt.imshow(graf_smooth_sep, cmap=\"gray\")\n",
    "plt.show()\n",
    "\n",
    "print(f\"Diff. graf_smooth vs. graf_smooth_sep: {abs(graf_smooth-graf_smooth_sep).sum()}\")"
   ]
  },
  {
   "cell_type": "markdown",
   "id": "af61f978-2585-4be7-95a0-226f89d7c387",
   "metadata": {},
   "source": [
    "## c) Derivative Filter\n",
    "<font color='red'>**TODO**</font>: Implement a function `gaussdx` for creating a Gaussian derivative filter in 1D according to the following equation:\n",
    "\n",
    "$$\n",
    "\\frac{d}{dx} G \n",
    "= \\frac{d}{dx} \\frac{1}{\\sqrt{2 \\pi \\sigma}} \\exp\\left(-\\frac{x^2}{2\\sigma^2}\\right) \\\\\n",
    "= -\\frac{1}{\\sqrt{2 \\pi \\sigma^3}} x \\exp\\left(-\\frac{x^2}{2\\sigma^2}\\right)\n",
    "$$"
   ]
  },
  {
   "cell_type": "code",
   "execution_count": null,
   "id": "5c1e2063-6950-4c77-ac88-7b3fe537b1bb",
   "metadata": {},
   "outputs": [],
   "source": [
    "def gaussdx(sigma):\n",
    "    x = np.arange(-int(3*sigma), int(3*sigma)+1)\n",
    "    y = # ... continue here\n",
    "    return x, y"
   ]
  },
  {
   "cell_type": "code",
   "execution_count": null,
   "id": "662fa36d-f3c3-4687-8d92-5f91452cc06a",
   "metadata": {},
   "outputs": [],
   "source": [
    "# plot your derivative filter\n",
    "sigma = 4.0\n",
    "x, y = gaussdx(sigma)\n",
    "plt.plot(x, y)\n",
    "plt.grid(linestyle=\"--\")"
   ]
  },
  {
   "cell_type": "markdown",
   "id": "c9adef0c-a4c6-45c4-80c3-8dad99c8ac6c",
   "metadata": {},
   "source": [
    "The effect of applying a filter can be studied by observing its so-called impulse response. For this, we create a test image in which only the central pixel has a non-zero value:"
   ]
  },
  {
   "cell_type": "code",
   "execution_count": null,
   "id": "e0425501-0072-4772-92c6-b037dbe4cea3",
   "metadata": {},
   "outputs": [],
   "source": [
    "test_img = np.zeros((25,25))\n",
    "test_img[12,12] = 1\n",
    "plt.imshow(test_img)\n",
    "plt.colorbar()"
   ]
  },
  {
   "cell_type": "markdown",
   "id": "6c354235-c6f3-4e5f-9310-0aea6d016580",
   "metadata": {},
   "source": [
    "Now, given the following **1D** filter kernels:"
   ]
  },
  {
   "cell_type": "code",
   "execution_count": null,
   "id": "a3c01b16-0325-49b6-bd6c-1471b33aec7b",
   "metadata": {},
   "outputs": [],
   "source": [
    "_, G = gauss(1)\n",
    "G = np.atleast_2d(G).T\n",
    "_, D = gaussdx(1)\n",
    "D = np.atleast_2d(D).T"
   ]
  },
  {
   "cell_type": "markdown",
   "id": "019cb4b3-35db-4e27-adf3-7db120b53b65",
   "metadata": {},
   "source": [
    "<font color='red'>**TODO**</font>: What happens when you apply the following filter combinations? (G' is the transpose of G)\n",
    "1. first G, then G'\n",
    "2. first G, then D'\n",
    "3. first D, then G'\n",
    "4. first G', then D\n",
    "5. first D', then G\n",
    "\n",
    "First visualize each result on the test image. Then, answer the following question: What is the expected result when applying these filters to images?"
   ]
  },
  {
   "cell_type": "code",
   "execution_count": null,
   "id": "4da3726e-c6a4-4a42-8a41-71dd4abea2ff",
   "metadata": {},
   "outputs": [],
   "source": [
    "# ... continue here"
   ]
  },
  {
   "cell_type": "markdown",
   "id": "2ec59ca2-a0d7-415b-bab9-9f0b998974dc",
   "metadata": {},
   "source": [
    "<font color='red'>**TODO**</font>: Use functions `gauss` and `gaussdx` in order to implement a function `gaussderiv` that returns the 2D Gaussian derivatives of an input image in x and y direction. Try the function on the given example images and comment on the output."
   ]
  },
  {
   "cell_type": "code",
   "execution_count": null,
   "id": "b5fbdf63-0203-4564-ab5b-a92ff264ba0a",
   "metadata": {},
   "outputs": [],
   "source": [
    "def gaussderiv(image, sigma, verbose=True):\n",
    "    # ... continue here\n",
    "    output1 = my_convolution(image, kernel, 0, verbose=verbose)\n",
    "    output2 = my_convolution(image, kernel.T, 0, verbose=verbose)\n",
    "    return kernel, output1, output2"
   ]
  },
  {
   "cell_type": "code",
   "execution_count": null,
   "id": "24e82c6b-9d27-4890-aad4-b43729021703",
   "metadata": {},
   "outputs": [],
   "source": [
    "kernel, dx, dy = gaussderiv(graf_gray, sigma=2.0)\n",
    "\n",
    "plt.imshow(kernel)\n",
    "plt.show()\n",
    "plt.imshow(dx, cmap=\"gray\")\n",
    "plt.show()\n",
    "plt.imshow(dy, cmap=\"gray\")\n",
    "plt.show()"
   ]
  },
  {
   "cell_type": "markdown",
   "id": "a43fa3d4-42ba-4bc2-993d-86972d700c0e",
   "metadata": {},
   "source": [
    "# Part 3: Object Identification\n",
    "In this part you will develop a simple image querying system which accepts a query image as input and then finds a set of similar images in the database. In order to compare images you will implement several distance functions introduced in the lecture and evaluate their performance in combination with different image representations. The data contains model and query images, which will be used to evaluate your implementation. The model and query images correspond to the same set of objects photographed from different viewpoints.\n",
    "## Loading Images\n",
    "The following cell loads all model and query images into numpy arrays. Make sure the *model* and *query* folders are in the same folder as this notebook's file."
   ]
  },
  {
   "cell_type": "code",
   "execution_count": null,
   "id": "c8db8f61-9df5-49ba-a465-bd1cac0ba0a8",
   "metadata": {},
   "outputs": [],
   "source": [
    "files_model = []\n",
    "images_model = []\n",
    "files_query = []\n",
    "images_query = []\n",
    "\n",
    "files = [f\"obj{i}__0.png\" for i in range(1,101)]\n",
    "\n",
    "for f in files:\n",
    "    f = os.path.join(\".\", \"model\", f)\n",
    "    if os.path.isfile(f):\n",
    "        name = os.path.basename(f).replace(\"__0.png\",\"\")\n",
    "        files_model += [name]\n",
    "        images_model += [plt.imread(f)]\n",
    "        file_query = f\"{name}__40.png\"\n",
    "        files_query += [file_query]\n",
    "        images_query += [plt.imread(os.path.join(\".\", \"query\", file_query))]\n",
    "\n",
    "# stack and convert to grayscale\n",
    "images_model = np.stack(images_model)\n",
    "images_model_gray = 0.2989 * images_model[:,:,:,0] + \\\n",
    "                    0.5870 * images_model[:,:,:,1] + \\\n",
    "                    0.1140 * images_model[:,:,:,2]\n",
    "images_query = np.stack(images_query)\n",
    "images_query_gray = 0.2989 * images_query[:,:,:,0] + \\\n",
    "                    0.5870 * images_query[:,:,:,1] + \\\n",
    "                    0.1140 * images_query[:,:,:,2]\n",
    "\n",
    "files_model = np.array(files_model)\n",
    "files_query = np.array(files_query)\n",
    "\n",
    "print(images_model.shape, images_model_gray.shape)"
   ]
  },
  {
   "cell_type": "code",
   "execution_count": null,
   "id": "404a744e-e166-4222-bcbc-55ac3e8aadab",
   "metadata": {},
   "outputs": [],
   "source": [
    "f, ax = plt.subplots(1,3)\n",
    "ax[0].imshow(images_model[0])\n",
    "ax[1].imshow(images_model_gray[0], cmap=\"gray\")\n",
    "ax[2].imshow(images_query[0])\n",
    "ax[0].axis(\"off\")\n",
    "ax[1].axis(\"off\")\n",
    "ax[2].axis(\"off\")\n",
    "plt.show()"
   ]
  },
  {
   "cell_type": "markdown",
   "id": "59aab030-b526-4c12-81e4-4bbe1234755c",
   "metadata": {},
   "source": [
    "## a) Image Representations, Histogram Distances\n",
    "\n",
    "### Intensity Histogram\n",
    "\n",
    "Implement function `normalized_hist`, which takes a gray-value image as input and returns the normalized histogram of pixel intensities. Compare results of your implementation with numpy’s `np.histogram` function to check if your implementation works as intended.\n",
    "\n",
    "<font color='red'>**TODO:**</font> Complete the next cell to compute a normalized histogram of pixel intensities. Do **not** use existing implementations, e.g. `numpy.histogram`, to do so. [Read up about histograms if necessary](https://en.wikipedia.org/wiki/Histogram)."
   ]
  },
  {
   "cell_type": "code",
   "execution_count": null,
   "id": "fb7cd2ac-0ab8-4e9b-8ba5-620612dbcb55",
   "metadata": {},
   "outputs": [],
   "source": [
    "def normalized_hist(image, nbins=10):\n",
    "    h = np.zeros(nbins)\n",
    "    # ... continue here\n",
    "    return h"
   ]
  },
  {
   "cell_type": "markdown",
   "id": "cc55bfe1-5f24-4574-a3f6-7e2a6189a3fe",
   "metadata": {},
   "source": [
    "Compare your result with numpy's implementation."
   ]
  },
  {
   "cell_type": "code",
   "execution_count": null,
   "id": "0bec5179-e474-4f5f-a91e-90575e0daf2a",
   "metadata": {},
   "outputs": [],
   "source": [
    "nbins = 10\n",
    "image_id = 0\n",
    "\n",
    "h1 = normalized_hist(images_model_gray[image_id], nbins=nbins)\n",
    "h2, _ = np.histogram(images_model_gray[image_id], bins=np.linspace(0,1,nbins+1))\n",
    "h2 = h2 / h2.sum()\n",
    "\n",
    "f = plt.figure(figsize=(5,3))\n",
    "plt.bar(np.arange(nbins)-0.2, h1, width=0.4)\n",
    "plt.bar(np.arange(nbins)+0.2, h2, width=0.4)\n",
    "plt.yscale(\"log\")\n",
    "plt.xticks(range(nbins))\n",
    "plt.grid(linestyle=\"--\")\n",
    "plt.legend([\"Yours\", \"numpy's\"])\n",
    "plt.show()"
   ]
  },
  {
   "cell_type": "markdown",
   "id": "7f248b91-9a28-4c0e-adb7-ab71ad24d528",
   "metadata": {},
   "source": [
    "### RGB Histogram\n",
    "<font color='red'>**TODO:**</font> Implement the 3-dimensional, normalized RGB-histogram by completing function `rgb_hist`. Go back to the lecture slides for reference."
   ]
  },
  {
   "cell_type": "code",
   "execution_count": null,
   "id": "8620eb13-8a97-4e80-ada2-7007e9ddcddc",
   "metadata": {},
   "outputs": [],
   "source": [
    "def rgb_hist(image, nbins=10):\n",
    "    h = np.zeros((nbins,nbins,nbins))\n",
    "    # ... continue here\n",
    "    return h"
   ]
  },
  {
   "cell_type": "markdown",
   "id": "afc81ef2-a263-4646-abc3-e472f98d2aba",
   "metadata": {},
   "source": [
    "Plot your result."
   ]
  },
  {
   "cell_type": "code",
   "execution_count": null,
   "id": "66b2fbd0-8687-4cbf-952b-62fb30a3f293",
   "metadata": {},
   "outputs": [],
   "source": [
    "nbins = 10\n",
    "image_id = 0\n",
    "\n",
    "h1 = rgb_hist(images_model[image_id], nbins=nbins)\n",
    "\n",
    "# lets scale and convert our histogram numbers to log-scale to improve visibility\n",
    "with np.errstate(divide='ignore'):\n",
    "    h1 = h1 / min(h1[h1!=0])\n",
    "    h1 = np.nan_to_num(np.log(h1), neginf=0)*100\n",
    "\n",
    "idx = np.indices((nbins,nbins,nbins)).reshape(3,-1)\n",
    "\n",
    "f = plt.figure(figsize=(10,6))\n",
    "\n",
    "ax = f.add_subplot(1,2,1)\n",
    "ax.imshow(images_model[image_id])\n",
    "ax.set_title(files_model[image_id])\n",
    "\n",
    "ax = f.add_subplot(1,2,2, projection=\"3d\")\n",
    "ax.scatter3D(\n",
    "    idx[0], idx[1], idx[2],\n",
    "    c = [( (idx[0,i]+1)/nbins, (idx[1,i]+1)/nbins, (idx[2,i]+1)/nbins ) for i in range(nbins**3)],\n",
    "    s = [h1[idx[0,i],idx[1,i],idx[2,i]] for i in range(nbins**3)]\n",
    ")\n",
    "ax.set_xticks(range(nbins))\n",
    "ax.set_yticks(range(nbins))\n",
    "ax.set_zticks(range(nbins))\n",
    "ax.set_title(\"RGB Histogram\")\n",
    "ax.set_xlabel(\"Red\")\n",
    "ax.set_ylabel(\"Green\")\n",
    "ax.set_zlabel(\"Blue\")\n",
    "plt.show()"
   ]
  },
  {
   "cell_type": "markdown",
   "id": "743ce348-be2e-4f7b-924a-4218120380f1",
   "metadata": {},
   "source": [
    "### RG Histogram\n",
    "<font color='red'>**TODO:**</font> Complete function `rg_hist` to compute a normalized 2-dimensional chromatic representation RG-histogram (see lecture slides)."
   ]
  },
  {
   "cell_type": "code",
   "execution_count": null,
   "id": "1b8e2bb7-63a6-4ecf-bfa5-f7f7221b989a",
   "metadata": {},
   "outputs": [],
   "source": [
    "def rg_hist(image, nbins=10):\n",
    "    h = np.zeros((nbins,nbins))\n",
    "    # ... continue here\n",
    "    return h"
   ]
  },
  {
   "cell_type": "markdown",
   "id": "11cfdfec-8cd9-48e3-959d-b4d495097d31",
   "metadata": {},
   "source": [
    "Plot your result."
   ]
  },
  {
   "cell_type": "code",
   "execution_count": null,
   "id": "22c2aa43-6b47-44b0-b4a6-c74c64cffdae",
   "metadata": {},
   "outputs": [],
   "source": [
    "nbins = 10\n",
    "image_id = 0\n",
    "h1 = rg_hist(images_model[image_id], nbins=nbins)\n",
    "\n",
    "# lets scale and convert our histogram numbers to log-scale to improve visibility\n",
    "with np.errstate(divide='ignore'):\n",
    "    h1 = h1 / min(h1[h1!=0])\n",
    "    h1 = np.nan_to_num(np.log(h1), neginf=0)*100\n",
    "\n",
    "idx = np.array([(r,g,b) for r,g,b in np.indices((nbins,nbins,nbins)).reshape(3,-1).T if r+g+b == nbins]).T\n",
    "\n",
    "f = plt.figure(figsize=(10,6))\n",
    "\n",
    "ax = f.add_subplot(1,2,1)\n",
    "ax.imshow(images_model[image_id])\n",
    "ax.set_title(files_model[image_id])\n",
    "\n",
    "ax = f.add_subplot(1,2,2, projection=\"3d\")\n",
    "ax.scatter3D(\n",
    "    idx[0], idx[1], idx[2],\n",
    "    c = [( (idx[0,i]+1)/nbins, (idx[1,i]+1)/nbins, (idx[2,i]+1)/nbins ) for i in range(idx.shape[1])],\n",
    "    s = [h1[idx[0,i],idx[1,i]] for i in range(idx.shape[1])]\n",
    ")\n",
    "ax.set_xticks(range(nbins))\n",
    "ax.set_yticks(range(nbins))\n",
    "ax.set_zticks(range(nbins))\n",
    "ax.set_title(\"RGB Histogram\")\n",
    "ax.set_xlabel(\"Red\")\n",
    "ax.set_ylabel(\"Green\")\n",
    "ax.set_zlabel(\"Blue\")\n",
    "plt.show()"
   ]
  },
  {
   "cell_type": "markdown",
   "id": "33864599-fce0-4b64-a8a3-151c22a5dc3e",
   "metadata": {},
   "source": [
    "### dxdy Histogram\n",
    "<font color='red'>**TODO:**</font> The dxdy histogram computes the 2D histogram of partial derivatives in x and y directions. Implement this histogram by completing function `dxdy_hist`. Hint: Scale the values to [0,1] before computing the histogram."
   ]
  },
  {
   "cell_type": "code",
   "execution_count": null,
   "id": "1b8c9fb4-4140-42ab-bd9a-cedec6f737df",
   "metadata": {},
   "outputs": [],
   "source": [
    "def dxdy_hist(image, nbins=10):\n",
    "    h = np.zeros((nbins,nbins))\n",
    "    _, dx, dy = gaussderiv(image, sigma=1, verbose=False)\n",
    "    # ... continue here\n",
    "    return h"
   ]
  },
  {
   "cell_type": "markdown",
   "id": "d580642f-9973-4a2b-8584-034ee1f848e8",
   "metadata": {},
   "source": [
    "Plot your result."
   ]
  },
  {
   "cell_type": "code",
   "execution_count": null,
   "id": "2f86be55-2236-4f19-824a-f40d1ade16f9",
   "metadata": {},
   "outputs": [],
   "source": [
    "nbins = 11\n",
    "image_id = 0\n",
    "h1 = dxdy_hist(images_model_gray[image_id], nbins=nbins)\n",
    "\n",
    "# lets scale and convert our histogram numbers to log-scale to improve visibility\n",
    "with np.errstate(divide='ignore'):\n",
    "    h1 = h1 / min(h1[h1!=0])\n",
    "    h1 = np.nan_to_num(np.log(h1), neginf=0)*100\n",
    "\n",
    "idx = np.indices((nbins,nbins)).reshape(2,-1)\n",
    "\n",
    "f = plt.figure(figsize=(10,6))\n",
    "\n",
    "ax = f.add_subplot(1,2,1)\n",
    "ax.imshow(images_model_gray[image_id], cmap=\"gray\")\n",
    "ax.set_title(files_model[image_id])\n",
    "\n",
    "ax = f.add_subplot(1,2,2)\n",
    "ax.scatter(\n",
    "    idx[0], idx[1],\n",
    "    c = \"black\",\n",
    "    s = [h1[idx[0,i],idx[1,i]] for i in range(idx.shape[1])]\n",
    ")\n",
    "ax.set_xticks(range(nbins))\n",
    "ax.set_yticks(range(nbins))\n",
    "ax.set_title(\"dxdy Histogram\")\n",
    "ax.set_xlabel(\"dx\")\n",
    "ax.set_ylabel(\"dy\")\n",
    "ax.set_aspect(\"equal\")\n",
    "ax.grid(linestyle=\"--\")\n",
    "plt.show()"
   ]
  },
  {
   "cell_type": "markdown",
   "id": "5d79108e-c403-4ed0-bcfb-df9be5f19204",
   "metadata": {},
   "source": [
    "## b) Histogram Comparison Measures\n",
    "Implement the histogram distance functions discussed during the lecture by filling the missing code in functions `dist_l2`, `dist_intersect`, and `dist_chi2`.\n",
    "### Euclidean Distance\n",
    "<font color='red'>**TODO:**</font> Implement the euclidean distance function to compare two histograms *x* and *y*."
   ]
  },
  {
   "cell_type": "code",
   "execution_count": null,
   "id": "cadc9ddd-4baf-4897-89e9-b3626fffb276",
   "metadata": {},
   "outputs": [],
   "source": [
    "def dist_l2(x,y):\n",
    "    d = # ... continue here\n",
    "    return d"
   ]
  },
  {
   "cell_type": "markdown",
   "id": "36aa1d1a-1ca5-4e8e-8849-3328366582a3",
   "metadata": {},
   "source": [
    "Test your implementation:"
   ]
  },
  {
   "cell_type": "code",
   "execution_count": null,
   "id": "6ddb9804-fd29-4922-a64a-dd17aec74dbf",
   "metadata": {},
   "outputs": [],
   "source": [
    "a = np.array([1,2,3,4]) / 10\n",
    "b = np.array([1,2,4,7]) / 15\n",
    "dist_l2(a,b) == 0.01111111111111111"
   ]
  },
  {
   "cell_type": "markdown",
   "id": "d1dbe065-c5d8-4d11-8ce3-703d2a5e294a",
   "metadata": {},
   "source": [
    "### Intersection\n",
    "<font color='red'>**TODO:**</font> Implement the intersection distance function to compare two histograms *x* and *y*."
   ]
  },
  {
   "cell_type": "code",
   "execution_count": null,
   "id": "0f0a0399-e757-46b7-ba75-cfd09fc242a2",
   "metadata": {},
   "outputs": [],
   "source": [
    "def dist_intersect(x,y):\n",
    "    # compute intersection distance between x and y\n",
    "    # return 1 - intersection, so that smaller values also correspond to more similar histograms\n",
    "    intersection = # continue here ...\n",
    "    return 1-intersection"
   ]
  },
  {
   "cell_type": "markdown",
   "id": "5a9f1f12-56c0-4b8d-b8b3-5568358fd6a5",
   "metadata": {},
   "source": [
    "Test your implementation:"
   ]
  },
  {
   "cell_type": "code",
   "execution_count": null,
   "id": "b279c2d8-bbb6-4cd8-9167-0440e4fef562",
   "metadata": {},
   "outputs": [],
   "source": [
    "a = np.array([1,2,3,4]) / 10\n",
    "b = np.array([1,2,4,7]) / 15\n",
    "dist_intersect(a,b) == 0.1333333333333333"
   ]
  },
  {
   "cell_type": "markdown",
   "id": "c7afbac5-639a-4841-99a7-54c6d5a206b8",
   "metadata": {},
   "source": [
    "### Chi-Square\n",
    "<font color='red'>**TODO:**</font> Implement the chi-square distance function to compare two histograms *x* and *y*. Note: Add a small value (1E-6) to the denominator to avoid division by zero."
   ]
  },
  {
   "cell_type": "code",
   "execution_count": null,
   "id": "cd02d0b7-d00b-45ef-9af3-31655f17d3ab",
   "metadata": {},
   "outputs": [],
   "source": [
    "def dist_chi2(x,y):\n",
    "    # compute chi2 distance between x and y\n",
    "    # add small value to denominator to not divide by zero\n",
    "    d = ...\n",
    "    return d"
   ]
  },
  {
   "cell_type": "markdown",
   "id": "b0eee42a-cad2-4e00-96ee-24da94321605",
   "metadata": {},
   "source": [
    "Test your implementation:"
   ]
  },
  {
   "cell_type": "code",
   "execution_count": null,
   "id": "786d9633-dce2-42a6-bd4d-06f7f0b6bf76",
   "metadata": {},
   "outputs": [],
   "source": [
    "a = np.array([1,2,3,4]) / 10\n",
    "b = np.array([1,2,4,7]) / 15\n",
    "dist_chi2(a,b) == 0.027088900064936177"
   ]
  },
  {
   "cell_type": "markdown",
   "id": "e8224a62-a4ba-44da-ad8f-1df6c5a4fdd9",
   "metadata": {},
   "source": [
    "## c) Object Identification\n",
    "Having implemented different distance functions and image histograms, we can now test how suitable they are for retrieving images in a query-by-example scenario. Function `find_best_match` takes a list of model images and a list of query images and for each query image returns the index of closest model image according to the given histogram function, distance function, and number of bins. Additionally to the indices of the best matching images, the function returns a matrix which contains distances between all pairs of model and query images."
   ]
  },
  {
   "cell_type": "code",
   "execution_count": null,
   "id": "36028a15-2f07-4845-8808-e2be73e3cb42",
   "metadata": {},
   "outputs": [],
   "source": [
    "def find_best_match(model_ids, query_ids, f_hist, f_dist, bins):\n",
    "    distances = np.zeros((len(query_ids), len(model_ids)))\n",
    "    \n",
    "    m_histograms = []\n",
    "    for idx in model_ids:\n",
    "        img = images_model[idx] if f_hist in [rgb_hist, rg_hist] else images_model_gray[idx]\n",
    "        m_histograms += [f_hist(img, bins)]\n",
    "    \n",
    "    q_histograms = []\n",
    "    for idx in query_ids:\n",
    "        img = images_query[idx] if f_hist in [rgb_hist, rg_hist] else images_query_gray[idx]\n",
    "        q_histograms += [f_hist(img, bins)]\n",
    "    \n",
    "    for q_i, q_hist in enumerate(q_histograms):\n",
    "        for m_i, m_hist in enumerate(m_histograms):\n",
    "            distances[q_i, m_i] = f_dist(q_hist, m_hist)\n",
    "    \n",
    "    best_match = np.array(range(len(files_query)))[distances.argmin(axis=0)]\n",
    "    \n",
    "    return best_match, distances"
   ]
  },
  {
   "cell_type": "code",
   "execution_count": null,
   "id": "1845218f-1e39-40d8-bd0f-3597cf67805c",
   "metadata": {},
   "outputs": [],
   "source": [
    "best_match, distances = find_best_match(\n",
    "    model_ids = range(len(files_model)),\n",
    "    query_ids = range(len(files_query)),\n",
    "    f_hist = rgb_hist,\n",
    "    f_dist = dist_l2,\n",
    "    bins = 10\n",
    ")"
   ]
  },
  {
   "cell_type": "markdown",
   "id": "05d62377-ec52-4d03-aa9d-725b1f07a081",
   "metadata": {},
   "source": [
    "### Show Neighbors\n",
    "\n",
    "Implement a function `show_neighbors` which takes a list of model images and a list of query images and for each query image visualizes several model images which are closest to the query image according to the specified distance metric. Use the function `find_best_match` in your implementation.\n",
    "\n",
    "<font color='red'>**TODO:**</font> Implement a function that plots the closest model images according to given query images and a combination of histogram function, distance function, and number of bins."
   ]
  },
  {
   "cell_type": "code",
   "execution_count": null,
   "id": "0b84d27a-32c5-416d-9a0f-4be68d0a147d",
   "metadata": {},
   "outputs": [],
   "source": [
    "def show_neighbors(model_ids, query_ids, f_hist, f_dist, bins, show_neighbors=5):\n",
    "    ..."
   ]
  },
  {
   "cell_type": "code",
   "execution_count": null,
   "id": "e9ed2cdf-f6ad-448b-9781-a6248345508a",
   "metadata": {},
   "outputs": [],
   "source": [
    "show_neighbors(\n",
    "    model_ids = range(len(files_model)),\n",
    "    query_ids = range(4),\n",
    "    f_hist = dxdy_hist,\n",
    "    f_dist = dist_l2,\n",
    "    bins = 10\n",
    ")"
   ]
  },
  {
   "cell_type": "markdown",
   "id": "e531db55-6f78-432d-a2c1-7209a4037565",
   "metadata": {},
   "source": [
    "### Recognition Rate\n",
    "\n",
    "Use function `find_best_match` to compute recognition rates for different combinations of distance and histogram functions. The recognition rate is given by a ratio between number of correct matches and total number of query images. A match is correct if the best match of a given query image is the corresponding model image, hence, the same object. Example: Given 10 query images and 6 correct matches, the recognition rate is 6/10 = 0.6.\n",
    "\n",
    "<font color='red'>**TODO:**</font> Compute recognition rates of different combinations of histogram functions, distance functions, and number of bins. Try to find a combination that works best. Why do you think the combination you found works particularly well? Discuss your results."
   ]
  },
  {
   "cell_type": "code",
   "execution_count": null,
   "id": "bf67a1c8-9983-491a-8f62-e303a97738b8",
   "metadata": {},
   "outputs": [],
   "source": [
    "hist_types = [normalized_hist, rgb_hist, rg_hist, dxdy_hist]\n",
    "dist_types = [dist_l2, dist_intersect, dist_chi2]\n",
    "bins_list = # your choice\n",
    "\n",
    "# continue here ..."
   ]
  }
 ],
 "metadata": {
  "kernelspec": {
   "display_name": "Python 3 (ipykernel)",
   "language": "python",
   "name": "python3"
  },
  "language_info": {
   "codemirror_mode": {
    "name": "ipython",
    "version": 3
   },
   "file_extension": ".py",
   "mimetype": "text/x-python",
   "name": "python",
   "nbconvert_exporter": "python",
   "pygments_lexer": "ipython3",
   "version": "3.12.11"
  }
 },
 "nbformat": 4,
 "nbformat_minor": 5
}
